{
  "nbformat": 4,
  "nbformat_minor": 5,
  "metadata": {
    "kernelspec": {
      "display_name": "Python [conda env:mne]",
      "language": "python",
      "name": "conda-env-mne-py"
    },
    "language_info": {
      "codemirror_mode": {
        "name": "ipython",
        "version": 3
      },
      "file_extension": ".py",
      "mimetype": "text/x-python",
      "name": "python",
      "nbconvert_exporter": "python",
      "pygments_lexer": "ipython3",
      "version": "3.8.6"
    },
    "colab": {
      "name": "2021_workshop_OHBM_MEG-BIDS.ipynb",
      "provenance": [],
      "collapsed_sections": [],
      "include_colab_link": true
    }
  },
  "cells": [
    {
      "cell_type": "markdown",
      "metadata": {
        "id": "view-in-github",
        "colab_type": "text"
      },
      "source": [
        "<a href=\"https://colab.research.google.com/github/guiomar/2021_workshop_accs_ohbm/blob/main/2021_workshop_OHBM_MEG_BIDS.ipynb\" target=\"_parent\"><img src=\"https://colab.research.google.com/assets/colab-badge.svg\" alt=\"Open In Colab\"/></a>"
      ]
    },
    {
      "cell_type": "markdown",
      "metadata": {
        "id": "W7QlSAiFpszH"
      },
      "source": [
        "# **MEG-BIDS conversion**"
      ],
      "id": "W7QlSAiFpszH"
    },
    {
      "cell_type": "markdown",
      "metadata": {
        "id": "ZsJ8WNwxl_vH"
      },
      "source": [
        "by *Guiomar Niso*\n",
        "\n",
        "\n",
        "[ACCS and OHBM Workshop, 13th October, 2021]"
      ],
      "id": "ZsJ8WNwxl_vH"
    },
    {
      "cell_type": "markdown",
      "metadata": {
        "id": "AFIpUs1-xVg_"
      },
      "source": [
        "##BIDS specification"
      ],
      "id": "AFIpUs1-xVg_"
    },
    {
      "cell_type": "markdown",
      "metadata": {
        "id": "7jTc1Icxxh5O"
      },
      "source": [
        "**MEG-BIDS specification**: (Niso et al. 2018)\n",
        "\n",
        "https://bids-specification.readthedocs.io/en/stable/04-modality-specific-files/02-magnetoencephalography.html\n",
        "\n",
        "```\n",
        "Niso G., Gorgolewski K.J., Bock E., Brooks T.L., Flandin G., Gramfort A., Henson R.N., Jas M., Litvak V., Moreau J., Oostenveld R., Schoffelen J.M., Tadel F., Wexler J., Baillet S. (2018). \n",
        "MEG-BIDS, the brain imaging data structure extended to magnetoencephalography.\n",
        "Scientific data, 5(1), 1-5. doi:10.1038/sdata.2018.110\n",
        "```"
      ],
      "id": "7jTc1Icxxh5O"
    },
    {
      "cell_type": "markdown",
      "metadata": {
        "id": "bxlgQZp_8jMe"
      },
      "source": [
        "**EEG-BIDS specification**: (Pernet et al. 2019)\n",
        "\n",
        "https://bids-specification.readthedocs.io/en/stable/04-modality-specific-files/03-electroencephalography.html\n",
        "\n",
        "```\n",
        "Pernet, C. R., Appelhoff, S., Gorgolewski, K.J., Flandin, G., Phillips, C., Delorme, A., Oostenveld, R. (2019). \n",
        "EEG-BIDS, an extension to the brain imaging data structure for electroencephalography. \n",
        "Scientific data, 6 (103). doi:10.1038/s41597-019-0104-8\n",
        "```"
      ],
      "id": "bxlgQZp_8jMe"
    },
    {
      "cell_type": "markdown",
      "metadata": {
        "id": "LIKHFDh38WkS"
      },
      "source": [
        "##Toolboxes\n"
      ],
      "id": "LIKHFDh38WkS"
    },
    {
      "cell_type": "markdown",
      "metadata": {
        "id": "P9jXZulK9PlD"
      },
      "source": [
        "**MNE-Python**\n",
        "* Python\n",
        "* MEG, EEG, iEEG\n",
        "* **MNE-BIDS**: (Appelhoff et al., 2019): https://mne.tools/mne-bids/stable/\n",
        "\n"
      ],
      "id": "P9jXZulK9PlD"
    },
    {
      "cell_type": "markdown",
      "metadata": {
        "id": "gAWpoVNp95Cy"
      },
      "source": [
        "**Brainstorm**\n",
        "* Matlab\n",
        "* No coding needed (GUI)\n",
        "* MEG, EEG, iEEG\n",
        "* Tutorials for **exporting and importing** BIDS datasets: https://neuroimage.usc.edu/brainstorm/ExportBids"
      ],
      "id": "gAWpoVNp95Cy"
    },
    {
      "cell_type": "markdown",
      "metadata": {
        "id": "_hmQ1ZzJ-nQV"
      },
      "source": [
        "**Fieldtrip**\n",
        "* Matlab\n",
        "* MEG, EEG\n",
        "* Funtion: **data2bids**: https://www.fieldtriptoolbox.org/reference/data2bids/\n"
      ],
      "id": "_hmQ1ZzJ-nQV"
    },
    {
      "cell_type": "markdown",
      "metadata": {
        "id": "8yyZJMfUyZtG"
      },
      "source": [
        "**EEGLAB**\n",
        "* Matlab\n",
        "* EEG\n",
        "* **bids-matlab-tools** (Delorme et al. 2021): https://github.com/sccn/bids-matlab-tools"
      ],
      "id": "8yyZJMfUyZtG"
    },
    {
      "cell_type": "markdown",
      "metadata": {
        "id": "L91nIogMwOCS"
      },
      "source": [
        "#BIDS conversion using MNE-BIDS"
      ],
      "id": "L91nIogMwOCS"
    },
    {
      "cell_type": "markdown",
      "metadata": {
        "id": "mqbgdPeMI4zA"
      },
      "source": [
        "MEG-BIDS conversion using **MNE-BIDS** from MNE-Python\n",
        "\n",
        "```\n",
        "Appelhoff, S., Sanderson, M., Brooks, T., Vliet, M., Quentin, R., Holdgraf, C., Chaumon, M., Mikulan, E., Tavabi, K., Höchenberger, R., Welke, D., Brunner, C., Rockhill, A., Larson, E., Gramfort, A., & Jas, M. (2019). \n",
        "MNE-BIDS: Organizing electrophysiological data into the BIDS format and facilitating their analysis. \n",
        "Journal of Open Source Software, 4:1896. doi:10.21105/joss.01896\n",
        "```\n",
        "\n"
      ],
      "id": "mqbgdPeMI4zA"
    },
    {
      "cell_type": "markdown",
      "metadata": {
        "id": "DF6YEhqCpsc9"
      },
      "source": [
        "To use Google Drive:\n"
      ],
      "id": "DF6YEhqCpsc9"
    },
    {
      "cell_type": "code",
      "metadata": {
        "id": "fcSiTtDQQFi6"
      },
      "source": [
        "from google.colab import drive\n",
        "drive.mount('/gdrive')"
      ],
      "id": "fcSiTtDQQFi6",
      "execution_count": null,
      "outputs": []
    },
    {
      "cell_type": "markdown",
      "metadata": {
        "id": "0WoVe8NBqklZ"
      },
      "source": [
        "Import libraries:"
      ],
      "id": "0WoVe8NBqklZ"
    },
    {
      "cell_type": "code",
      "metadata": {
        "id": "kSPeAOxRQTvD"
      },
      "source": [
        "import numpy as np\n",
        "import pandas as pd\n",
        "import os.path as op\n",
        "import shutil"
      ],
      "id": "kSPeAOxRQTvD",
      "execution_count": 38,
      "outputs": []
    },
    {
      "cell_type": "markdown",
      "metadata": {
        "id": "_xOvJ9ktwX_7"
      },
      "source": [
        "Install and import MNE-Python and MNE-BIDS\n",
        "*   **MNE-Python**: https://mne.tools/stable\n",
        "*   **MNE-BIDS**: https://mne.tools/mne-bids/stable/"
      ],
      "id": "_xOvJ9ktwX_7"
    },
    {
      "cell_type": "code",
      "metadata": {
        "id": "qPZizcRiQLRm"
      },
      "source": [
        "!pip install mne"
      ],
      "id": "qPZizcRiQLRm",
      "execution_count": null,
      "outputs": []
    },
    {
      "cell_type": "code",
      "metadata": {
        "id": "3TXSfl9wphJc"
      },
      "source": [
        "!pip install mne-bids"
      ],
      "id": "3TXSfl9wphJc",
      "execution_count": null,
      "outputs": []
    },
    {
      "cell_type": "code",
      "metadata": {
        "id": "sTfZD_DEdEsx"
      },
      "source": [
        "import mne\n",
        "import mne_bids"
      ],
      "id": "sTfZD_DEdEsx",
      "execution_count": 41,
      "outputs": []
    },
    {
      "cell_type": "markdown",
      "metadata": {
        "id": "vVIORcXQqzhU"
      },
      "source": [
        "Go to workshop folder:"
      ],
      "id": "vVIORcXQqzhU"
    },
    {
      "cell_type": "code",
      "metadata": {
        "id": "ONJe989ecvO8"
      },
      "source": [
        "cd \"/gdrive/MyDrive/Colab Notebooks/2021_Workshop_ACCS_OHBM/\""
      ],
      "id": "ONJe989ecvO8",
      "execution_count": null,
      "outputs": []
    },
    {
      "cell_type": "markdown",
      "metadata": {
        "id": "rVolu7AOraBH"
      },
      "source": [
        "##Load data"
      ],
      "id": "rVolu7AOraBH"
    },
    {
      "cell_type": "markdown",
      "metadata": {
        "id": "e17dIAjnmf9c"
      },
      "source": [
        "In the Workshop we will be working with the **SPM multimodal dataset**.\n",
        "\n",
        "MEG data could be downloaded from: https://www.fil.ion.ucl.ac.uk/spm/data/mmfaces"
      ],
      "id": "e17dIAjnmf9c"
    },
    {
      "cell_type": "markdown",
      "metadata": {
        "id": "3iR1lXS0rjo5"
      },
      "source": [
        "Read CTF *.ds folders with MNE"
      ],
      "id": "3iR1lXS0rjo5"
    },
    {
      "cell_type": "code",
      "metadata": {
        "id": "qOT_xeAZQile"
      },
      "source": [
        "fname = 'MEG/SPM_CTF_MEG_example_faces1_3D.ds'\n",
        "raw = mne.io.read_raw_ctf(fname)"
      ],
      "id": "qOT_xeAZQile",
      "execution_count": null,
      "outputs": []
    },
    {
      "cell_type": "markdown",
      "metadata": {
        "id": "MVZKf0dAsCEV"
      },
      "source": [
        "Fill in missing info:"
      ],
      "id": "MVZKf0dAsCEV"
    },
    {
      "cell_type": "code",
      "metadata": {
        "id": "33VH0yDn-0bf"
      },
      "source": [
        "raw.info['line_freq'] = 50  # Power line frequency"
      ],
      "id": "33VH0yDn-0bf",
      "execution_count": 43,
      "outputs": []
    },
    {
      "cell_type": "code",
      "metadata": {
        "id": "A8s-Xrb4sAA1"
      },
      "source": [
        "raw.info?"
      ],
      "id": "A8s-Xrb4sAA1",
      "execution_count": 9,
      "outputs": []
    },
    {
      "cell_type": "markdown",
      "metadata": {
        "id": "MVIMRc_nsM7D"
      },
      "source": [
        "##Create BIDS path"
      ],
      "id": "MVIMRc_nsM7D"
    },
    {
      "cell_type": "code",
      "metadata": {
        "id": "rCOk01JaoPZi",
        "colab": {
          "base_uri": "https://localhost:8080/"
        },
        "outputId": "bc7793ff-a2d5-4cf0-c67d-0fe66662dfb7"
      },
      "source": [
        "out_path= './bids_dataset'\n",
        "datatype = 'meg'\n",
        "subject = '01'\n",
        "task    = 'faces';\n",
        "session = '01'\n",
        "run     = None\n",
        "\n",
        "bids_path = mne_bids.BIDSPath(subject=subject, session=session, run=run, \n",
        "                              task=task, datatype=datatype, root=out_path)\n",
        "bids_path"
      ],
      "id": "rCOk01JaoPZi",
      "execution_count": 44,
      "outputs": [
        {
          "output_type": "execute_result",
          "data": {
            "text/plain": [
              "BIDSPath(\n",
              "root: bids_dataset\n",
              "datatype: meg\n",
              "basename: sub-01_ses-01_task-faces)"
            ]
          },
          "metadata": {},
          "execution_count": 44
        }
      ]
    },
    {
      "cell_type": "markdown",
      "metadata": {
        "id": "2IP_5vBhseKV"
      },
      "source": [
        "Remove folder if already exists:"
      ],
      "id": "2IP_5vBhseKV"
    },
    {
      "cell_type": "code",
      "metadata": {
        "id": "kr7uQ-rwB8k1"
      },
      "source": [
        "if op.exists(out_path):\n",
        "    shutil.rmtree(out_path)\n",
        "    print('Removed')"
      ],
      "id": "kr7uQ-rwB8k1",
      "execution_count": null,
      "outputs": []
    },
    {
      "cell_type": "markdown",
      "metadata": {
        "id": "bxeyd7v5tC-5"
      },
      "source": [
        "##Calibration files"
      ],
      "id": "bxeyd7v5tC-5"
    },
    {
      "cell_type": "markdown",
      "metadata": {
        "id": "YW-oPlCE_FbB"
      },
      "source": [
        "Some MEG datasets from Elekta/Neuromag/MEGIN (fif) have fine-calibration and crosstalk files\n",
        "\n",
        "*** NOT the case in this example** *\n",
        "\n"
      ],
      "id": "YW-oPlCE_FbB"
    },
    {
      "cell_type": "code",
      "metadata": {
        "id": "KVnarjHq_DWt"
      },
      "source": [
        "cal_fname = 'SSS/sss_cal_mgh.dat'\n",
        "ct_fname = 'SSS/ct_sparse_mgh.fif'\n",
        "\n",
        "write_meg_calibration(cal_fname, bids_path)\n",
        "write_meg_crosstalk(ct_fname, bids_path)"
      ],
      "id": "KVnarjHq_DWt",
      "execution_count": null,
      "outputs": []
    },
    {
      "cell_type": "markdown",
      "metadata": {
        "id": "qxwJd9R3tehO"
      },
      "source": [
        "##Convert to BIDS"
      ],
      "id": "qxwJd9R3tehO"
    },
    {
      "cell_type": "code",
      "metadata": {
        "id": "c7SprZ7dqPW_"
      },
      "source": [
        "mne_bids.write_raw_bids(raw, bids_path=bids_path) # events_data=events_data, event_id=event_id,"
      ],
      "id": "c7SprZ7dqPW_",
      "execution_count": null,
      "outputs": []
    },
    {
      "cell_type": "markdown",
      "metadata": {
        "id": "EpcqITopuj1X"
      },
      "source": [
        "Print BIDS directory tree:"
      ],
      "id": "EpcqITopuj1X"
    },
    {
      "cell_type": "code",
      "metadata": {
        "id": "HX7G8MvSByEu"
      },
      "source": [
        "mne_bids.print_dir_tree(out_path) #maxdepth"
      ],
      "id": "HX7G8MvSByEu",
      "execution_count": null,
      "outputs": []
    },
    {
      "cell_type": "code",
      "metadata": {
        "id": "Q8Tn9kgsDI--"
      },
      "source": [
        "mne_bids.print_dir_tree('./MEG')"
      ],
      "id": "Q8Tn9kgsDI--",
      "execution_count": null,
      "outputs": []
    },
    {
      "cell_type": "markdown",
      "metadata": {
        "id": "btUtDLCRuyjy"
      },
      "source": [
        "Events:"
      ],
      "id": "btUtDLCRuyjy"
    },
    {
      "cell_type": "code",
      "metadata": {
        "id": "RauEzkOmDzBE"
      },
      "source": [
        "from mne_bids.stats import count_events\n",
        "counts = count_events(out_path)\n",
        "counts"
      ],
      "id": "RauEzkOmDzBE",
      "execution_count": null,
      "outputs": []
    },
    {
      "cell_type": "markdown",
      "metadata": {
        "id": "mbYIICsWu_A3"
      },
      "source": [
        "## Mark bad channels"
      ],
      "id": "mbYIICsWu_A3"
    },
    {
      "cell_type": "markdown",
      "metadata": {
        "id": "d5kWnU0-vEcT"
      },
      "source": [
        "First, read BIDS dataset:"
      ],
      "id": "d5kWnU0-vEcT"
    },
    {
      "cell_type": "code",
      "metadata": {
        "id": "ZWWuLixEELDn"
      },
      "source": [
        "raw = mne_bids.read_raw_bids(bids_path=bids_path, verbose=False);"
      ],
      "id": "ZWWuLixEELDn",
      "execution_count": null,
      "outputs": []
    },
    {
      "cell_type": "code",
      "metadata": {
        "id": "c7YjxkaJF4RM"
      },
      "source": [
        "print(f'Channels currently marked as bad:\\n'\n",
        "      f'    {\", \".join(raw.info[\"bads\"])}\\n')"
      ],
      "id": "c7YjxkaJF4RM",
      "execution_count": null,
      "outputs": []
    },
    {
      "cell_type": "code",
      "metadata": {
        "id": "g96uh3FyF7zA",
        "colab": {
          "base_uri": "https://localhost:8080/"
        },
        "outputId": "e34f8f4e-5307-4fca-cc9b-3683ed85bc31"
      },
      "source": [
        "#bads = ['MLC11-2908', 'MLC12-2908']\n",
        "bads = [] # mark all channels as good (overwrite=True)\n",
        "mne_bids.mark_bad_channels(ch_names=bads, bids_path=bids_path, overwrite=True, verbose=False)"
      ],
      "id": "g96uh3FyF7zA",
      "execution_count": 55,
      "outputs": [
        {
          "output_type": "stream",
          "name": "stdout",
          "text": [
            "Resetting status and description for all channels.\n"
          ]
        }
      ]
    },
    {
      "cell_type": "markdown",
      "metadata": {
        "id": "4v_40417DCO2"
      },
      "source": [
        "##Additional metadata"
      ],
      "id": "4v_40417DCO2"
    },
    {
      "cell_type": "markdown",
      "metadata": {
        "id": "8gS2LQcuDNuX"
      },
      "source": [
        "Sidecar *_meg.json file"
      ],
      "id": "8gS2LQcuDNuX"
    },
    {
      "cell_type": "code",
      "metadata": {
        "id": "6nYcErLSF8Ts"
      },
      "source": [
        "out_path= './bids_dataset'\n",
        "datatype = 'meg'\n",
        "subject = '01'\n",
        "task    = 'faces';\n",
        "session = '01'\n",
        "run     = None\n",
        "suffix = 'meg'\n",
        "\n",
        "bids_path = mne_bids.BIDSPath(subject=subject, session=session, run=run, \n",
        "                              task=task, datatype=datatype,suffix=suffix, root=out_path)"
      ],
      "id": "6nYcErLSF8Ts",
      "execution_count": 58,
      "outputs": []
    },
    {
      "cell_type": "code",
      "metadata": {
        "id": "GdIFN-40DFTk"
      },
      "source": [
        "sidecar_path = bids_path.copy().update(extension='.json')\n",
        "sidecar_path"
      ],
      "id": "GdIFN-40DFTk",
      "execution_count": null,
      "outputs": []
    },
    {
      "cell_type": "code",
      "metadata": {
        "id": "yOWw83t6Dfhf"
      },
      "source": [
        "print(bids_path.match())"
      ],
      "id": "yOWw83t6Dfhf",
      "execution_count": null,
      "outputs": []
    },
    {
      "cell_type": "markdown",
      "metadata": {
        "id": "Dtdf9C9wDqdy"
      },
      "source": [
        "Define a dictionary with new entries\n",
        "\n",
        "*** BE STRICT IN THE NAMING** *"
      ],
      "id": "Dtdf9C9wDqdy"
    },
    {
      "cell_type": "code",
      "metadata": {
        "id": "mC0oxl5TDogj"
      },
      "source": [
        "entries = {\n",
        "    'PowerLineFrequency': 60,\n",
        "    'Manufacturer': \"MEGIN\"\n",
        "}"
      ],
      "id": "mC0oxl5TDogj",
      "execution_count": 60,
      "outputs": []
    },
    {
      "cell_type": "code",
      "metadata": {
        "id": "SG-dVlPIDX_0"
      },
      "source": [
        "mne_bids.update_sidecar_json(bids_path=sidecar_path, entries=entries)"
      ],
      "id": "SG-dVlPIDX_0",
      "execution_count": null,
      "outputs": []
    },
    {
      "cell_type": "markdown",
      "metadata": {
        "id": "45k7-gE3IHPM"
      },
      "source": [
        "Add or rewrite a few more fields:"
      ],
      "id": "45k7-gE3IHPM"
    },
    {
      "cell_type": "code",
      "metadata": {
        "id": "KGlIZZBHQEIq"
      },
      "source": [
        "entries['Manufacturer'] = \"CTF\"\n",
        "entries['PowerLineFrequency'] = 50\n",
        "mne_bids.update_sidecar_json(bids_path=sidecar_path, entries=entries)"
      ],
      "id": "KGlIZZBHQEIq",
      "execution_count": null,
      "outputs": []
    },
    {
      "cell_type": "markdown",
      "metadata": {
        "id": "ZcCn8uVHnD3T"
      },
      "source": [
        "# BIDS conversion using Brainstorm"
      ],
      "id": "ZcCn8uVHnD3T"
    },
    {
      "cell_type": "markdown",
      "metadata": {
        "id": "Vp0MUEE6nZ2h"
      },
      "source": [
        "Brainstorm toolbox (Tadel et al. 2011): https://neuroimage.usc.edu/brainstorm\n"
      ],
      "id": "Vp0MUEE6nZ2h"
    },
    {
      "cell_type": "markdown",
      "metadata": {
        "id": "xWLU7-dUplPS"
      },
      "source": [
        "Tutorials for **exporting and importing** BIDS datasets: https://neuroimage.usc.edu/brainstorm/ExportBids\n"
      ],
      "id": "xWLU7-dUplPS"
    },
    {
      "cell_type": "markdown",
      "metadata": {
        "id": "1aSDpGmdphbR"
      },
      "source": [
        "Examples using BIDS datasets:\n",
        "\n",
        "(Tadel et al. 2019)\n",
        "\n",
        "```\n",
        "Tadel F, Bock E, Niso G, Mosher JC, Cousineau M, Pantazis D, Leahy RM, Baillet S. (2019)\n",
        "MEG/EEG Group Analysis With Brainstorm\n",
        "Frontiers in Neuroscience, 13, 76. doi:10.3389/fnins.2019.00076\n",
        "```\n",
        "\n",
        "(Niso et al. 2019)\n",
        "```\n",
        "Niso G, Tadel F, Bock E, Cousineau M, Santos A, Baillet S. (2019)\n",
        "Brainstorm Pipeline Analysis of Resting-State Data from the Open MEG Archive\n",
        "Frontiers in Neuroscience, 13, 284. doi:10.3389/fnins.2019.00284\n",
        "```"
      ],
      "id": "1aSDpGmdphbR"
    },
    {
      "cell_type": "markdown",
      "metadata": {
        "id": "p2h5tGh6KkgQ"
      },
      "source": [
        "#BIDS Validator"
      ],
      "id": "p2h5tGh6KkgQ"
    },
    {
      "cell_type": "markdown",
      "metadata": {
        "id": "8_KHYu5eKn1N"
      },
      "source": [
        "Online BIDS validator: https://bids-standard.github.io/bids-validator/"
      ],
      "id": "8_KHYu5eKn1N"
    }
  ]
}